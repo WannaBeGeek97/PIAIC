{
  "nbformat": 4,
  "nbformat_minor": 0,
  "metadata": {
    "colab": {
      "name": "PIAIC_Assignment_Unofficial_MuhammadDaanyaalZahid.ipynb",
      "version": "0.3.2",
      "provenance": [],
      "collapsed_sections": []
    },
    "language_info": {
      "codemirror_mode": {
        "name": "ipython",
        "version": 3
      },
      "file_extension": ".py",
      "mimetype": "text/x-python",
      "name": "python",
      "nbconvert_exporter": "python",
      "pygments_lexer": "ipython3",
      "version": "3.6.4"
    },
    "kernelspec": {
      "display_name": "Python 3",
      "language": "python",
      "name": "python3"
    }
  },
  "cells": [
    {
      "cell_type": "markdown",
      "metadata": {
        "id": "2hvv6KJ9jsYK",
        "colab_type": "text"
      },
      "source": [
        "# Q1:"
      ]
    },
    {
      "cell_type": "markdown",
      "metadata": {
        "id": "VCAjiYW2jsYN",
        "colab_type": "raw"
      },
      "source": [
        "![alt text](https://)Store a message in a variable, and then print that\n",
        "message."
      ]
    },
    {
      "cell_type": "code",
      "metadata": {
        "id": "YV66FjECjsYP",
        "colab_type": "code",
        "outputId": "2678e550-0c49-49c1-fc42-aa00d5fe93f0",
        "colab": {
          "base_uri": "https://localhost:8080/",
          "height": 34
        }
      },
      "source": [
        "variable_xyz=\"Hello World\"\n",
        "print(variable_xyz)"
      ],
      "execution_count": 0,
      "outputs": [
        {
          "output_type": "stream",
          "text": [
            "Hello World\n"
          ],
          "name": "stdout"
        }
      ]
    },
    {
      "cell_type": "markdown",
      "metadata": {
        "id": "PQgXpLsDjsYW",
        "colab_type": "text"
      },
      "source": [
        "# Q2:"
      ]
    },
    {
      "cell_type": "markdown",
      "metadata": {
        "id": "2FifiLrZjsYX",
        "colab_type": "raw"
      },
      "source": [
        "Store a message in a variable, and print that message.\n",
        "Then change the value of your variable to a new message, and print the new\n",
        "message."
      ]
    },
    {
      "cell_type": "code",
      "metadata": {
        "id": "2C8P5bvDjsYX",
        "colab_type": "code",
        "outputId": "2ed2dcfc-0ebb-4f57-b957-cce39fd43830",
        "colab": {
          "base_uri": "https://localhost:8080/",
          "height": 50
        }
      },
      "source": [
        "variable_1 = \"I am storing something in this variable\"\n",
        "print(variable_1)\n",
        "variable_1 =\"I am changing the previously stored information from the variable\"\n",
        "print(variable_1)"
      ],
      "execution_count": 0,
      "outputs": [
        {
          "output_type": "stream",
          "text": [
            "I am storing something in this variable\n",
            "I am changing the previously stored information from the variable\n"
          ],
          "name": "stdout"
        }
      ]
    },
    {
      "cell_type": "markdown",
      "metadata": {
        "id": "QySCdzKjjsYf",
        "colab_type": "text"
      },
      "source": [
        ""
      ]
    },
    {
      "cell_type": "markdown",
      "metadata": {
        "id": "Pp2Qx3S_jsYk",
        "colab_type": "text"
      },
      "source": [
        "# Q3:"
      ]
    },
    {
      "cell_type": "markdown",
      "metadata": {
        "id": "ZCOx-ZiIjsYl",
        "colab_type": "raw"
      },
      "source": [
        "Store a person’s name in a variable, and print a message to that person. Your message should be simple, such as, “Hello Shahzad,\n",
        "would you like to learn some Python today?”"
      ]
    },
    {
      "cell_type": "code",
      "metadata": {
        "id": "hieX-8b8jsYm",
        "colab_type": "code",
        "outputId": "617cd41e-3465-455e-8a70-dae8df2c9b75",
        "colab": {
          "base_uri": "https://localhost:8080/",
          "height": 34
        }
      },
      "source": [
        "variable_name = \"Muhammad Daanyaal Zahid\"\n",
        "print(\"Hello \"+variable_name+\", would you like to learn some python today? \")"
      ],
      "execution_count": 0,
      "outputs": [
        {
          "output_type": "stream",
          "text": [
            "Hello Muhammad Daanyaal Zahid, would you like to learn some python today? \n"
          ],
          "name": "stdout"
        }
      ]
    },
    {
      "cell_type": "markdown",
      "metadata": {
        "id": "GHh9O5YfjsYr",
        "colab_type": "text"
      },
      "source": [
        "# Q4:"
      ]
    },
    {
      "cell_type": "markdown",
      "metadata": {
        "id": "VM_VtV1GjsYs",
        "colab_type": "raw"
      },
      "source": [
        "Store a person’s name in a variable, and then print that person’s name in lowercase, uppercase, and titlecase."
      ]
    },
    {
      "cell_type": "code",
      "metadata": {
        "id": "7intLKRjjsYt",
        "colab_type": "code",
        "outputId": "13388f8a-6679-4de3-8db2-1802fcf1a1b2",
        "colab": {
          "base_uri": "https://localhost:8080/",
          "height": 67
        }
      },
      "source": [
        "Name = \"muHaMMad dAAnYaaL zaHId\"\n",
        "print(Name.upper())\n",
        "print(Name.lower())\n",
        "print(Name.title())"
      ],
      "execution_count": 0,
      "outputs": [
        {
          "output_type": "stream",
          "text": [
            "MUHAMMAD DAANYAAL ZAHID\n",
            "muhammad daanyaal zahid\n",
            "Muhammad Daanyaal Zahid\n"
          ],
          "name": "stdout"
        }
      ]
    },
    {
      "cell_type": "markdown",
      "metadata": {
        "id": "GglSkMLojsY3",
        "colab_type": "text"
      },
      "source": [
        "# Q5:"
      ]
    },
    {
      "cell_type": "markdown",
      "metadata": {
        "id": "yIArXZ8MjsY3",
        "colab_type": "raw"
      },
      "source": [
        "Find a quote from a famous person you admire. Print the\n",
        "quote and the name of its author. Your output should look something like the\n",
        "following, including the quotation marks:\n",
        "    \n",
        "    \n",
        "Albert Einstein once said, “A person who never made a\n",
        "mistake never tried anything new.”"
      ]
    },
    {
      "cell_type": "code",
      "metadata": {
        "id": "p2xtV2zCjsY4",
        "colab_type": "code",
        "outputId": "69f18d1d-2d60-4366-a718-9eb3dacf0645",
        "colab": {
          "base_uri": "https://localhost:8080/",
          "height": 34
        }
      },
      "source": [
        "print('Adolf Hitler once said,\"He alone, who owns the youth, gains the future.\"')"
      ],
      "execution_count": 0,
      "outputs": [
        {
          "output_type": "stream",
          "text": [
            "Adolf Hitler once said,\"He alone, who owns the youth, gains the future.\"\n"
          ],
          "name": "stdout"
        }
      ]
    },
    {
      "cell_type": "markdown",
      "metadata": {
        "id": "g429tnmhjsY7",
        "colab_type": "text"
      },
      "source": [
        "# Q6:"
      ]
    },
    {
      "cell_type": "markdown",
      "metadata": {
        "id": "p1SAQQKsjsY8",
        "colab_type": "raw"
      },
      "source": [
        "Write addition, subtraction, multiplication, and division\n",
        "operations that each result in the number 8. Be sure to enclose your operations\n",
        "in print statements to see the results. You should create four lines that look\n",
        "like this:\n",
        "    \n",
        "    \n",
        "print(5 + 3)"
      ]
    },
    {
      "cell_type": "code",
      "metadata": {
        "id": "U4w5hydEjsY8",
        "colab_type": "code",
        "outputId": "d1bdd69f-0b18-4c06-ada1-11e4eeb6fe0d",
        "colab": {
          "base_uri": "https://localhost:8080/",
          "height": 84
        }
      },
      "source": [
        "print(4+4)\n",
        "print(9-1)\n",
        "print(8*1)\n",
        "print(64/8)"
      ],
      "execution_count": 0,
      "outputs": [
        {
          "output_type": "stream",
          "text": [
            "8\n",
            "8\n",
            "8\n",
            "8.0\n"
          ],
          "name": "stdout"
        }
      ]
    },
    {
      "cell_type": "markdown",
      "metadata": {
        "id": "GZef8NwEjsZI",
        "colab_type": "text"
      },
      "source": [
        "# Q7:"
      ]
    },
    {
      "cell_type": "markdown",
      "metadata": {
        "id": "W_LEin51jsZJ",
        "colab_type": "raw"
      },
      "source": [
        "Create a variable called number1 with the value of 8.\n",
        "Write a print statement to print number1 multiplied by 9."
      ]
    },
    {
      "cell_type": "code",
      "metadata": {
        "id": "V9lkT5OTjsZK",
        "colab_type": "code",
        "outputId": "34e4d6ef-b6e3-49f0-b358-c23c52c8e626",
        "colab": {
          "base_uri": "https://localhost:8080/",
          "height": 34
        }
      },
      "source": [
        "number1 = 8\n",
        "print(number1 * 9)"
      ],
      "execution_count": 0,
      "outputs": [
        {
          "output_type": "stream",
          "text": [
            "72\n"
          ],
          "name": "stdout"
        }
      ]
    },
    {
      "cell_type": "markdown",
      "metadata": {
        "id": "mtwwC349jsZQ",
        "colab_type": "text"
      },
      "source": [
        "# Q8:"
      ]
    },
    {
      "cell_type": "markdown",
      "metadata": {
        "id": "xlLMV32ljsZR",
        "colab_type": "raw"
      },
      "source": [
        "Store your favorite number in a variable. Then, using\n",
        "that variable, create a message that reveals your favorite number. Print that\n",
        "message."
      ]
    },
    {
      "cell_type": "code",
      "metadata": {
        "id": "w2CTmyktjsZS",
        "colab_type": "code",
        "outputId": "dea354c6-94a9-4614-e9e3-16b7e95936c5",
        "colab": {
          "base_uri": "https://localhost:8080/",
          "height": 34
        }
      },
      "source": [
        "fav_num = str(420)\n",
        "print(\"My favourite number is = \" +fav_num)"
      ],
      "execution_count": 0,
      "outputs": [
        {
          "output_type": "stream",
          "text": [
            "My favourite number is = 420\n"
          ],
          "name": "stdout"
        }
      ]
    },
    {
      "cell_type": "markdown",
      "metadata": {
        "id": "2WW3AbXnjsZV",
        "colab_type": "text"
      },
      "source": [
        "# Q9:"
      ]
    },
    {
      "cell_type": "markdown",
      "metadata": {
        "id": "7uic6jRMjsZW",
        "colab_type": "raw"
      },
      "source": [
        "Store your name and your age in a varibale called my_name and my_age.\n",
        "Use format method to print your name and your age.\n",
        "Your final output sholud be like this:\n",
        "\n",
        "OUTPUT:    \n",
        "My name is Shahzad Ahsan and my age is 21.\n",
        "\n",
        "NOTE:Use both of the format methods which were discuss in the class."
      ]
    },
    {
      "cell_type": "code",
      "metadata": {
        "id": "_q8mahAzjsZW",
        "colab_type": "code",
        "outputId": "424b3c81-897d-4953-c2d5-91359b8e8ffc",
        "colab": {
          "base_uri": "https://localhost:8080/",
          "height": 34
        }
      },
      "source": [
        "my_name = \"Muhammad Daanyaal Zahid\"\n",
        "my_age = str(21)\n",
        "print(\"My name is \"+my_name+ \" and my age is \"+my_age+\".\")"
      ],
      "execution_count": 0,
      "outputs": [
        {
          "output_type": "stream",
          "text": [
            "My name is Muhammad Daanyaal Zahid and my age is 21.\n"
          ],
          "name": "stdout"
        }
      ]
    },
    {
      "cell_type": "code",
      "metadata": {
        "id": "G3IT4njXjsZY",
        "colab_type": "code",
        "colab": {}
      },
      "source": [
        "my_name = \"Muhammad Daanyaal Zahid\"\n",
        "my_age = str(21)\n",
        "print(\"My name is \"+my_name+ \" and my age is \"+my_age+\".\")"
      ],
      "execution_count": 0,
      "outputs": []
    },
    {
      "cell_type": "markdown",
      "metadata": {
        "id": "4UM1tGcPjsZc",
        "colab_type": "text"
      },
      "source": [
        "# Q10:"
      ]
    },
    {
      "cell_type": "markdown",
      "metadata": {
        "id": "kyxObd-wjsZd",
        "colab_type": "raw"
      },
      "source": [
        "Write a Python program to check if a number is positive, negative or zero."
      ]
    },
    {
      "cell_type": "code",
      "metadata": {
        "id": "DcCF8PIcjsZe",
        "colab_type": "code",
        "outputId": "386dbd95-a90c-4394-a382-39900675bd6a",
        "colab": {
          "base_uri": "https://localhost:8080/",
          "height": 50
        }
      },
      "source": [
        "xyz=float(input(\"Enter any number : \"))\n",
        "if   xyz == 0 :\n",
        "  print(\"Number is Zero\")\n",
        "elif xyz > 0 :\n",
        "  print(\"Number is Positive \")\n",
        "else :\n",
        "  print(\"Number is Negetive \")\n"
      ],
      "execution_count": 9,
      "outputs": [
        {
          "output_type": "stream",
          "text": [
            "Enter any number : 10\n",
            "Number is Positive \n"
          ],
          "name": "stdout"
        }
      ]
    },
    {
      "cell_type": "markdown",
      "metadata": {
        "id": "FDBWbCwojsZj",
        "colab_type": "text"
      },
      "source": [
        "# Q11:"
      ]
    },
    {
      "cell_type": "markdown",
      "metadata": {
        "id": "EvJ8xePNjsZk",
        "colab_type": "raw"
      },
      "source": [
        "Write a Python program which accepts the radius of a circle from the user and compute the\n",
        "area."
      ]
    },
    {
      "cell_type": "code",
      "metadata": {
        "id": "K38wcLIZjsZk",
        "colab_type": "code",
        "outputId": "05dfabcc-8ca5-4997-886a-253559d3c3c3",
        "colab": {
          "base_uri": "https://localhost:8080/",
          "height": 50
        }
      },
      "source": [
        "from math import pi\n",
        "user_radius = float(input(\"Enter the radius of the circle = \"))\n",
        "area= pi*(user_radius**2)\n",
        "print(\"Area of circle is \" +str(area))"
      ],
      "execution_count": 0,
      "outputs": [
        {
          "output_type": "stream",
          "text": [
            "Enter the radius of the circle = 2\n",
            "Area of circle is 12.566370614359172\n"
          ],
          "name": "stdout"
        }
      ]
    },
    {
      "cell_type": "markdown",
      "metadata": {
        "id": "gfdKaydVjsZr",
        "colab_type": "text"
      },
      "source": [
        "# Q12:"
      ]
    },
    {
      "cell_type": "markdown",
      "metadata": {
        "id": "caujHabdjsZs",
        "colab_type": "raw"
      },
      "source": [
        "Write a Python function to check whether a number is completely divisible by another\n",
        "number. Accept two integer values form the user"
      ]
    },
    {
      "cell_type": "code",
      "metadata": {
        "id": "xCNaNUaojsZs",
        "colab_type": "code",
        "colab": {
          "base_uri": "https://localhost:8080/",
          "height": 128
        },
        "outputId": "57b4f8b4-ae30-4393-daee-590c80b6a8f1"
      },
      "source": [
        "numerator = float(input(\"Enter a numerator\"))\n",
        "denominator = float(input(\"Enter a denominator\"))\n",
        "if numerator%denominator == 0 :\n",
        "print(numerator+ \" is divisble by \"+denominator)\n",
        "elif :\n",
        "print(numerator+ \" is not divisble by \"+denominator)"
      ],
      "execution_count": 5,
      "outputs": [
        {
          "output_type": "error",
          "ename": "IndentationError",
          "evalue": "ignored",
          "traceback": [
            "\u001b[0;36m  File \u001b[0;32m\"<ipython-input-5-26c63e00d63f>\"\u001b[0;36m, line \u001b[0;32m4\u001b[0m\n\u001b[0;31m    print(numerator+ \" is divisble by \"+denominator)\u001b[0m\n\u001b[0m        ^\u001b[0m\n\u001b[0;31mIndentationError\u001b[0m\u001b[0;31m:\u001b[0m expected an indented block\n"
          ]
        }
      ]
    },
    {
      "cell_type": "markdown",
      "metadata": {
        "id": "8S6u1k8NjsZx",
        "colab_type": "text"
      },
      "source": [
        "# Q13:"
      ]
    },
    {
      "cell_type": "markdown",
      "metadata": {
        "id": "-GAeU1NMjsZy",
        "colab_type": "raw"
      },
      "source": [
        "Write a Python program to find whether a given number (accept from the user) is even or\n",
        "odd, print out an appropriate message to the user."
      ]
    },
    {
      "cell_type": "code",
      "metadata": {
        "id": "pa9YRMdTjsZy",
        "colab_type": "code",
        "colab": {}
      },
      "source": [
        "randnum = int(input(\"Enter a random number to check if it is even of odd\"))\n",
        "remainder= randnum%2\n",
        "if remainder==0 :\n",
        " print(\"The number you entered \"+randnum+\" is an even number\")\n",
        "else :\n",
        " print(\"The number  you entered \"+randnum+\" is an odd number\")"
      ],
      "execution_count": 0,
      "outputs": []
    },
    {
      "cell_type": "markdown",
      "metadata": {
        "id": "swdUCkOjjsZ2",
        "colab_type": "text"
      },
      "source": [
        "# Q14:"
      ]
    },
    {
      "cell_type": "markdown",
      "metadata": {
        "id": "KCu7iUlcjsZ2",
        "colab_type": "raw"
      },
      "source": [
        " Print a suitable statement that uses their response. Such as, if they entered “Bangkok”: “I’d love to visit Bangkook more often”."
      ]
    },
    {
      "cell_type": "code",
      "metadata": {
        "id": "mEnu25lujsZ3",
        "colab_type": "code",
        "colab": {
          "base_uri": "https://localhost:8080/",
          "height": 50
        },
        "outputId": "d5706f35-20ae-4d3e-9a4c-8998289fb399"
      },
      "source": [
        "random = str(input(\"Enter a random thing \"))\n",
        "print(\"I love \"+random)"
      ],
      "execution_count": 15,
      "outputs": [
        {
          "output_type": "stream",
          "text": [
            "Enter a random thing Baseball\n",
            "I love Baseball\n"
          ],
          "name": "stdout"
        }
      ]
    },
    {
      "cell_type": "code",
      "metadata": {
        "id": "KxP3tGD2jsZ4",
        "colab_type": "code",
        "colab": {}
      },
      "source": [
        ""
      ],
      "execution_count": 0,
      "outputs": []
    },
    {
      "cell_type": "markdown",
      "metadata": {
        "id": "r3KxOILRjsZ6",
        "colab_type": "text"
      },
      "source": [
        "# Q15:"
      ]
    },
    {
      "cell_type": "markdown",
      "metadata": {
        "id": "9idsjifAjsZ6",
        "colab_type": "raw"
      },
      "source": [
        "Write an input line to ask a user whether they want to take the red pill or the blue pill.\n",
        "\n",
        " If they write “red” then print “You stay in wonderland and see how far the rabbit hole goes”.\n",
        " \n",
        " Elif they write “blue” then print “You wake up in your bed and believe what you want to believe.”.\n",
        " \n",
        " Else print “That’s not an option Neo.”"
      ]
    },
    {
      "cell_type": "code",
      "metadata": {
        "id": "Gv-Po6h3jsZ7",
        "colab_type": "code",
        "colab": {}
      },
      "source": [
        "answer = input(\"Do you want to take the Red Pill or the Blue Pill ? [R/B]\")\n",
        "if answer == R:\n",
        "  print(\"You stay in wonderland and see how far the rabbit hole goes. \")\n",
        "elif answer == B :\n",
        "  print(\"You wake up in your bed and believe what you want to believe.\")\n",
        "else :\n",
        "  print(\"That is not an option Neo.\")"
      ],
      "execution_count": 0,
      "outputs": []
    },
    {
      "cell_type": "code",
      "metadata": {
        "id": "Vmw8uOWDjsaA",
        "colab_type": "code",
        "colab": {}
      },
      "source": [
        ""
      ],
      "execution_count": 0,
      "outputs": []
    },
    {
      "cell_type": "code",
      "metadata": {
        "id": "WMdwS_84jsaE",
        "colab_type": "code",
        "colab": {}
      },
      "source": [
        ""
      ],
      "execution_count": 0,
      "outputs": []
    },
    {
      "cell_type": "code",
      "metadata": {
        "id": "_GFZ4GJLjsaH",
        "colab_type": "code",
        "colab": {}
      },
      "source": [
        ""
      ],
      "execution_count": 0,
      "outputs": []
    },
    {
      "cell_type": "code",
      "metadata": {
        "id": "HfdDaZbCjsaK",
        "colab_type": "code",
        "colab": {}
      },
      "source": [
        ""
      ],
      "execution_count": 0,
      "outputs": []
    },
    {
      "cell_type": "code",
      "metadata": {
        "id": "KJw4OXJrjsaN",
        "colab_type": "code",
        "colab": {}
      },
      "source": [
        ""
      ],
      "execution_count": 0,
      "outputs": []
    },
    {
      "cell_type": "code",
      "metadata": {
        "id": "qWCcGJxPjsaP",
        "colab_type": "code",
        "colab": {}
      },
      "source": [
        ""
      ],
      "execution_count": 0,
      "outputs": []
    },
    {
      "cell_type": "code",
      "metadata": {
        "id": "gpHNTs36jsaT",
        "colab_type": "code",
        "colab": {}
      },
      "source": [
        ""
      ],
      "execution_count": 0,
      "outputs": []
    },
    {
      "cell_type": "code",
      "metadata": {
        "id": "brkQZW-RjsaV",
        "colab_type": "code",
        "colab": {}
      },
      "source": [
        ""
      ],
      "execution_count": 0,
      "outputs": []
    },
    {
      "cell_type": "code",
      "metadata": {
        "id": "B_bSXdhbjsaX",
        "colab_type": "code",
        "colab": {}
      },
      "source": [
        ""
      ],
      "execution_count": 0,
      "outputs": []
    },
    {
      "cell_type": "code",
      "metadata": {
        "id": "UP8X0XSkjsaY",
        "colab_type": "code",
        "colab": {}
      },
      "source": [
        ""
      ],
      "execution_count": 0,
      "outputs": []
    },
    {
      "cell_type": "code",
      "metadata": {
        "id": "vvQsymUpjsaa",
        "colab_type": "code",
        "colab": {}
      },
      "source": [
        ""
      ],
      "execution_count": 0,
      "outputs": []
    },
    {
      "cell_type": "code",
      "metadata": {
        "id": "loY7pLM6jsab",
        "colab_type": "code",
        "colab": {}
      },
      "source": [
        ""
      ],
      "execution_count": 0,
      "outputs": []
    }
  ]
}