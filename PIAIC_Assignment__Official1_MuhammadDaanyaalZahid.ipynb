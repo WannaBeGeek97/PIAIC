{
  "nbformat": 4,
  "nbformat_minor": 0,
  "metadata": {
    "colab": {
      "name": "PIAIC_Assignment__Official1_MuhammadDaanyaalZahid.ipynb",
      "version": "0.3.2",
      "provenance": [],
      "collapsed_sections": [
        "Jd-4NfQ_uK1V"
      ]
    },
    "language_info": {
      "codemirror_mode": {
        "name": "ipython",
        "version": 3
      },
      "file_extension": ".py",
      "mimetype": "text/x-python",
      "name": "python",
      "nbconvert_exporter": "python",
      "pygments_lexer": "ipython3",
      "version": "3.6.4"
    },
    "kernelspec": {
      "display_name": "Python 3",
      "language": "python",
      "name": "python3"
    }
  },
  "cells": [
    {
      "cell_type": "markdown",
      "metadata": {
        "id": "aLNxUG2EuKwN",
        "colab_type": "text"
      },
      "source": [
        "## 1. Calculate Area of a Circle"
      ]
    },
    {
      "cell_type": "markdown",
      "metadata": {
        "id": "u0iJNuPyuKwT",
        "colab_type": "text"
      },
      "source": [
        "#### Write a Python program which accepts the radius of a circle from the user and compute the area.\n",
        "###### Program Console Sample Output 1:\n",
        "###### Input Radius: 0.5\n",
        "###### Area of Circle with radius 0.5 is 0.7853981634"
      ]
    },
    {
      "cell_type": "code",
      "metadata": {
        "id": "PiNna0R3uKwW",
        "colab_type": "code",
        "outputId": "820e8418-927c-4cbd-d183-97421d64e991",
        "colab": {
          "base_uri": "https://localhost:8080/",
          "height": 50
        }
      },
      "source": [
        "radius = float(input(\"Enter the radius of the circle : \"))\n",
        "pi = 22/7\n",
        "Area = pi*radius**2\n",
        "print(Area)"
      ],
      "execution_count": 0,
      "outputs": [
        {
          "output_type": "stream",
          "text": [
            "Enter the radius of the circle : 0.5\n",
            "0.7857142857142857\n"
          ],
          "name": "stdout"
        }
      ]
    },
    {
      "cell_type": "markdown",
      "metadata": {
        "id": "-ZJFVe6muKwt",
        "colab_type": "text"
      },
      "source": [
        "## 2. Check Number either positive, negative or zero"
      ]
    },
    {
      "cell_type": "markdown",
      "metadata": {
        "id": "4les16oluKwv",
        "colab_type": "text"
      },
      "source": [
        "#### Write a Python program to check if a number is positive, negative or zero\n",
        "###### Program Console Sample Output 1:\n",
        "###### Enter Number: -1\n",
        "##### Negative Number Entered\n",
        "###### Program Console Sample Output 2:\n",
        "##### Integer: 3\n",
        "##### Positive Number Entered\n",
        "###### Program Console Sample Output 3:\n",
        "##### Integer: 0\n",
        "###### Zero Entered"
      ]
    },
    {
      "cell_type": "code",
      "metadata": {
        "id": "n3GZ5v6DuKwy",
        "colab_type": "code",
        "outputId": "841d95a1-73a1-4ea8-dd02-ba5a8cb9e111",
        "colab": {
          "base_uri": "https://localhost:8080/",
          "height": 50
        }
      },
      "source": [
        "randnum = int(input(\"Enter a random number : \"))\n",
        "if randnum == 0 :\n",
        " print(\"Number is Zero\")\n",
        "elif randnum > 0 :\n",
        " print(\"Number is Positive\")\n",
        "else :\n",
        " print(\"Number is Negetive\")"
      ],
      "execution_count": 0,
      "outputs": [
        {
          "output_type": "stream",
          "text": [
            "Enter a random number : -1\n",
            "Number is Negetive\n"
          ],
          "name": "stdout"
        }
      ]
    },
    {
      "cell_type": "code",
      "metadata": {
        "id": "iRBl0D6NuKw2",
        "colab_type": "code",
        "outputId": "bade1481-c50e-4ca7-9c63-cac643e4775c",
        "colab": {
          "base_uri": "https://localhost:8080/",
          "height": 50
        }
      },
      "source": [
        "randnum = int(input(\"Enter a random number : \"))\n",
        "if randnum == 0 :\n",
        " print(\"Number is Zero\")\n",
        "elif randnum > 0 :\n",
        " print(\"Number is Positive\")\n",
        "else :\n",
        " print(\"Number is Negetive\")"
      ],
      "execution_count": 0,
      "outputs": [
        {
          "output_type": "stream",
          "text": [
            "Enter a random number : 3\n",
            "Number is Positive\n"
          ],
          "name": "stdout"
        }
      ]
    },
    {
      "cell_type": "code",
      "metadata": {
        "id": "B5fFAni6uKw7",
        "colab_type": "code",
        "outputId": "a2b37e64-66a4-47dc-8cbf-7a969d1fe7d8",
        "colab": {
          "base_uri": "https://localhost:8080/",
          "height": 50
        }
      },
      "source": [
        "randnum = int(input(\"Enter a random number : \"))\n",
        "if randnum == 0 :\n",
        " print(\"Number is Zero\")\n",
        "elif randnum > 0 :\n",
        " print(\"Number is Positive\")\n",
        "else :\n",
        " print(\"Number is Negetive\")"
      ],
      "execution_count": 0,
      "outputs": [
        {
          "output_type": "stream",
          "text": [
            "Enter a random number : 0\n",
            "Number is Zero\n"
          ],
          "name": "stdout"
        }
      ]
    },
    {
      "cell_type": "markdown",
      "metadata": {
        "id": "56lxwWMHuKxF",
        "colab_type": "text"
      },
      "source": [
        "## 3. Divisibility Check of two numbers"
      ]
    },
    {
      "cell_type": "markdown",
      "metadata": {
        "id": "Za8lGzILuKxH",
        "colab_type": "text"
      },
      "source": [
        "#### Write a Python program to check whether a number is completely divisible by another number. Accept two integer values form the user\n",
        "##### Program Console Sample Output 1:\n",
        "###### Enter numerator: 4\n",
        "###### Enter Denominator: 2\n",
        "##### Number 4 is Completely divisible by 2\n",
        "###### Program Console Sample Output 2:\n",
        "##### Enter numerator: 7\n",
        "\n",
        "##### Enter Denominator: 4\n",
        "###### Number 7 is not Completely divisible by 4"
      ]
    },
    {
      "cell_type": "code",
      "metadata": {
        "id": "QdNZwV_buKxI",
        "colab_type": "code",
        "outputId": "59da0b49-1758-4c63-8b0f-9129ba470a8a",
        "colab": {
          "base_uri": "https://localhost:8080/",
          "height": 67
        }
      },
      "source": [
        "num = int(input(\"Enter the Numerator : \"))\n",
        "den = int(input(\"Enter the Denominator : \"))\n",
        "remainder = num%den\n",
        "if remainder==0 :\n",
        " print(str(num)+ \" is completely divisible by \" +str(den))\n",
        "else :\n",
        " print(str(num)+ \" is not completely divisble by \" +str(den))\n"
      ],
      "execution_count": 0,
      "outputs": [
        {
          "output_type": "stream",
          "text": [
            "Enter the Numerator : 4\n",
            "Enter the Denominator : 2\n",
            "4 is completely divisible by 2\n"
          ],
          "name": "stdout"
        }
      ]
    },
    {
      "cell_type": "code",
      "metadata": {
        "id": "UuDGlNJ1uKxO",
        "colab_type": "code",
        "outputId": "4f002979-69d4-419d-89fe-c40e07b673dd",
        "colab": {
          "base_uri": "https://localhost:8080/",
          "height": 67
        }
      },
      "source": [
        "num = int(input(\"Enter the Numerator : \"))\n",
        "den = int(input(\"Enter the Denominator : \"))\n",
        "remainder = num%den\n",
        "if remainder==0 :\n",
        " print(str(num)+ \" is completely divisible by \" +str(den))\n",
        "else :\n",
        " print(str(num)+ \" is not completely divisble by \" +str(den))"
      ],
      "execution_count": 0,
      "outputs": [
        {
          "output_type": "stream",
          "text": [
            "Enter the Numerator : 7\n",
            "Enter the Denominator : 4\n",
            "7 is not completely divisble by 4\n"
          ],
          "name": "stdout"
        }
      ]
    },
    {
      "cell_type": "markdown",
      "metadata": {
        "id": "kxYtLXDKuKxo",
        "colab_type": "text"
      },
      "source": [
        "## 4. Calculate Volume of a sphere"
      ]
    },
    {
      "cell_type": "markdown",
      "metadata": {
        "id": "8UNvUGQLuKxq",
        "colab_type": "text"
      },
      "source": [
        "##### Write a Python program to get the volume of a sphere, please take the radius as input from user"
      ]
    },
    {
      "cell_type": "markdown",
      "metadata": {
        "id": "vHqeLkQHuKxr",
        "colab_type": "text"
      },
      "source": [
        "##### Program Console Output:\n",
        "##### Enter Radius of Sphere: 1\n",
        "###### Volume of the Sphere with Radius 1 is 4.18"
      ]
    },
    {
      "cell_type": "code",
      "metadata": {
        "id": "Ve8rYRzKuKxs",
        "colab_type": "code",
        "outputId": "2f27635b-4806-4191-8551-9e517fc60d98",
        "colab": {
          "base_uri": "https://localhost:8080/",
          "height": 50
        }
      },
      "source": [
        "radius = float(input(\"Enter the radius of the sphere\"))\n",
        "pi= 22/7\n",
        "Volume= 4/3 * pi * radius**3\n",
        "print(Volume)"
      ],
      "execution_count": 0,
      "outputs": [
        {
          "output_type": "stream",
          "text": [
            "Enter the radius of the sphere1\n",
            "4.19047619047619\n"
          ],
          "name": "stdout"
        }
      ]
    },
    {
      "cell_type": "markdown",
      "metadata": {
        "id": "ma0TgRnnuKyD",
        "colab_type": "text"
      },
      "source": [
        "## 5. Copy string n times\n",
        "#### Write a Python program to get a string which is n (non-negative integer) copies of a given string.\n",
        "##### Program Console Output:\n",
        "##### Enter String: Hi\n",
        "###### How many copies of String you need: 4\n",
        "###### 4 Copies of Hi are HiHiHiHi"
      ]
    },
    {
      "cell_type": "code",
      "metadata": {
        "id": "FOnnF4NWuKyI",
        "colab_type": "code",
        "colab": {
          "base_uri": "https://localhost:8080/",
          "height": 67
        },
        "outputId": "d382cb9c-3f6c-44bc-ecee-efd76b88ea0e"
      },
      "source": [
        "str_1 = input(\"Enter the specific string : \")\n",
        "mult_1 = int(input(\"Enter the number of the copies you want : \"))\n",
        "ans = str_1 * mult_1\n",
        "print(str(mult_1)+ \" copies of \"+str_1+\" are \"+ans)"
      ],
      "execution_count": 3,
      "outputs": [
        {
          "output_type": "stream",
          "text": [
            "Enter the specific string : hi\n",
            "Enter the number of the copies you want : 4\n",
            "4 copies of hi are hihihihi\n"
          ],
          "name": "stdout"
        }
      ]
    },
    {
      "cell_type": "code",
      "metadata": {
        "id": "ymJyeB7ouKyS",
        "colab_type": "code",
        "colab": {
          "base_uri": "https://localhost:8080/",
          "height": 67
        },
        "outputId": "0a67c657-117c-4652-cf8d-a56ea54a0bda"
      },
      "source": [
        "str_1 = input(\"Enter the specific string : \")\n",
        "mult_1 = int(input(\"Enter the number of the copies you want : \"))\n",
        "ans = str_1 * mult_1\n",
        "print(str(mult_1)+ \" copies of \"+str_1+\" are \"+ans)"
      ],
      "execution_count": 4,
      "outputs": [
        {
          "output_type": "stream",
          "text": [
            "Enter the specific string : HI\n",
            "Enter the number of the copies you want : 4\n",
            "4 copies of HI are HIHIHIHI\n"
          ],
          "name": "stdout"
        }
      ]
    },
    {
      "cell_type": "code",
      "metadata": {
        "id": "UPZ7eyM1uKyX",
        "colab_type": "code",
        "colab": {
          "base_uri": "https://localhost:8080/",
          "height": 67
        },
        "outputId": "e532cc57-3c60-44d0-bffe-301d802e07af"
      },
      "source": [
        "str_1 = input(\"Enter the specific string : \")\n",
        "mult_1 = int(input(\"Enter the number of the copies you want : \"))\n",
        "ans = str_1 * mult_1\n",
        "print(str(mult_1)+ \" copies of \"+str_1+\" are \"+ans)"
      ],
      "execution_count": 5,
      "outputs": [
        {
          "output_type": "stream",
          "text": [
            "Enter the specific string : Hi\n",
            "Enter the number of the copies you want : 4\n",
            "4 copies of Hi are HiHiHiHi\n"
          ],
          "name": "stdout"
        }
      ]
    },
    {
      "cell_type": "markdown",
      "metadata": {
        "id": "AzLnnP60uKyj",
        "colab_type": "text"
      },
      "source": [
        "## 6. Check if number is Even or Odd\n",
        "### Write a Python program to find whether a given number (accept from the user) is even or odd, print out an appropriate message to the user\n",
        "#### Program Console Output 1:\n",
        "##### Enter Number: 4\n",
        "###### 4 is Even\n",
        "#### Program Console Output 2:\n",
        "##### Enter Number: 9\n",
        "###### 9 is Odd"
      ]
    },
    {
      "cell_type": "code",
      "metadata": {
        "id": "xIZtsq4guKyk",
        "colab_type": "code",
        "colab": {
          "base_uri": "https://localhost:8080/",
          "height": 50
        },
        "outputId": "a74f4284-fd9d-40e5-afed-ed087d27ec56"
      },
      "source": [
        "randnum = float(input(\"Enter a random number to check if it is even or odd : \"))\n",
        "rem = randnum % 2\n",
        "if rem == 0 :\n",
        "   print(str(randnum)+ \" is an even number\")\n",
        "else :\n",
        "   print(str(randnum)+ \" is am odd number\")"
      ],
      "execution_count": 6,
      "outputs": [
        {
          "output_type": "stream",
          "text": [
            "Enter a random number to check if it is even or odd : 4\n",
            "4.0 is an even number\n"
          ],
          "name": "stdout"
        }
      ]
    },
    {
      "cell_type": "code",
      "metadata": {
        "id": "XxOkk4ADuKy0",
        "colab_type": "code",
        "colab": {
          "base_uri": "https://localhost:8080/",
          "height": 50
        },
        "outputId": "d25f5375-bc5d-4550-b1ad-a77b084ca2af"
      },
      "source": [
        "randnum = float(input(\"Enter number: \".title()))\n",
        "rem = randnum % 2\n",
        "if rem == 0:\n",
        "    print(str(randnum) + \" is Even.\")\n",
        "else:\n",
        "    print(str(randnum) + \" is Odd.\")"
      ],
      "execution_count": 3,
      "outputs": [
        {
          "output_type": "stream",
          "text": [
            "Enter Number: 9\n",
            "9.0 is Odd.\n"
          ],
          "name": "stdout"
        }
      ]
    },
    {
      "cell_type": "markdown",
      "metadata": {
        "id": "jA6u4SFsuKy4",
        "colab_type": "text"
      },
      "source": [
        "## 7. Vowel Tester\n",
        "### Write a Python program to test whether a passed letter is a vowel or not\n",
        "#### Program Console Output 1:\n",
        "##### Enter a character: A\n",
        "###### Letter A is Vowel\n",
        "#### Program Console Output 2:\n",
        "##### Enter a character: e\n",
        "###### Letter e is Vowel\n",
        "#### Program Console Output 2:\n",
        "##### Enter a character: N\n",
        "###### Letter N is not Vowel"
      ]
    },
    {
      "cell_type": "code",
      "metadata": {
        "id": "XOy46t5CuKy6",
        "colab_type": "code",
        "colab": {
          "base_uri": "https://localhost:8080/",
          "height": 50
        },
        "outputId": "93b26c44-c239-4de3-abc6-9f71bd7e7700"
      },
      "source": [
        "Vowel = [\"A\",\"E\",\"I\",\"O\",\"U\",\"a\",\"e\",\"i\",\"o\",\"u\"]\n",
        "char = input(\"Enter a character :\")\n",
        "if char in Vowel :\n",
        "  print(char+\" is a vowel\")\n",
        "else :\n",
        "  print(char+\" is not a vowel\")"
      ],
      "execution_count": 9,
      "outputs": [
        {
          "output_type": "stream",
          "text": [
            "Enter a character :A\n",
            "A is a vowel\n"
          ],
          "name": "stdout"
        }
      ]
    },
    {
      "cell_type": "code",
      "metadata": {
        "id": "HSu0uxw7uKzA",
        "colab_type": "code",
        "colab": {
          "base_uri": "https://localhost:8080/",
          "height": 50
        },
        "outputId": "10d399ce-e079-4dc4-b63b-9643f85ea4c3"
      },
      "source": [
        "Vowel = [\"A\",\"E\",\"I\",\"O\",\"U\",\"a\",\"e\",\"i\",\"o\",\"u\"]\n",
        "char = input(\"Enter a character :\")\n",
        "if char in Vowel :\n",
        "  print(char+\" is a vowel\")\n",
        "else :\n",
        "  print(char+\" is not a vowel\")"
      ],
      "execution_count": 10,
      "outputs": [
        {
          "output_type": "stream",
          "text": [
            "Enter a character :e\n",
            "e is a vowel\n"
          ],
          "name": "stdout"
        }
      ]
    },
    {
      "cell_type": "code",
      "metadata": {
        "id": "YNCODCG_uKzJ",
        "colab_type": "code",
        "colab": {
          "base_uri": "https://localhost:8080/",
          "height": 50
        },
        "outputId": "07a954af-5c16-4163-fb3a-07547b6560c1"
      },
      "source": [
        "Vowel = [\"A\",\"E\",\"I\",\"O\",\"U\",\"a\",\"e\",\"i\",\"o\",\"u\"]\n",
        "char = input(\"Enter a character :\")\n",
        "if char in Vowel :\n",
        "  print(char+\" is a vowel\")\n",
        "else :\n",
        "  print(char+\" is not a vowel\")"
      ],
      "execution_count": 11,
      "outputs": [
        {
          "output_type": "stream",
          "text": [
            "Enter a character :N\n",
            "N is not a vowel\n"
          ],
          "name": "stdout"
        }
      ]
    },
    {
      "cell_type": "markdown",
      "metadata": {
        "id": "ZJAS5r_WuKzV",
        "colab_type": "text"
      },
      "source": [
        "## 8. Triangle area\n",
        "### Write a Python program that will accept the base and height of a triangle and compute the area\n",
        "###### Reference:\n",
        "https://www.mathgoodies.com/lessons/vol1/area_triangle"
      ]
    },
    {
      "cell_type": "code",
      "metadata": {
        "id": "VPnHb1cTuKzW",
        "colab_type": "code",
        "colab": {
          "base_uri": "https://localhost:8080/",
          "height": 67
        },
        "outputId": "b1d20bc5-d721-4039-9b27-88a48c9512b2"
      },
      "source": [
        "base_1 = float(input(\"Enter the value of the base of the triangle : \"))\n",
        "height_1 = float(input(\"Enter the value of the height of the triangle\"))\n",
        "area_1 = (1/2) * base_1 * height_1\n",
        "print(\"Area of the triangle is \"+str(area_1))"
      ],
      "execution_count": 13,
      "outputs": [
        {
          "output_type": "stream",
          "text": [
            "Enter the value of the base of the triangle : 10\n",
            "Enter the value of the height of the triangle10\n",
            "Area of the triangle is 50.0\n"
          ],
          "name": "stdout"
        }
      ]
    },
    {
      "cell_type": "markdown",
      "metadata": {
        "id": "I6V084b1uKzo",
        "colab_type": "text"
      },
      "source": [
        "## 9. Calculate Interest\n",
        "### Write a Python program to compute the future value of a specified principal amount, rate of interest, and a number of years\n",
        "#### Program Console Sample 1:\n",
        "##### Please enter principal amount: 10000\n",
        "###### Please Enter Rate of interest in %: 0.1\n",
        "###### Enter number of years for investment: 5\n",
        "###### After 5 years your principal amount 10000 over an interest rate of 0.1 % will be 16105.1"
      ]
    },
    {
      "cell_type": "code",
      "metadata": {
        "id": "GF0GIMPeuKzq",
        "colab_type": "code",
        "colab": {
          "base_uri": "https://localhost:8080/",
          "height": 84
        },
        "outputId": "3c82f0eb-9595-4ccd-b3bc-9bdb745ae1a4"
      },
      "source": [
        "Amount = float(input(\"Please enter the principal ammount : \"))\n",
        "ROT = float(input(\"Please enter the rate of interest : \"))\n",
        "Invest = float(input(\"Enter the number of years for investment : \"))\n",
        "total = Amount * (1+ROT)**Invest\n",
        "print(\"After \"+str(Invest)+\" years your pricipal amount \"+str(Amount)+\" over an interest rate of \"+str(ROT)+\" will be \"+str(total))"
      ],
      "execution_count": 16,
      "outputs": [
        {
          "output_type": "stream",
          "text": [
            "Please enter the principal ammount : 10000\n",
            "Please enter the rate of interest : 0.1\n",
            "Enter the number of years for investment : 5\n",
            "After 5.0 years your pricipal amount 10000.0 over an interest rate of 0.1 will be 16105.100000000006\n"
          ],
          "name": "stdout"
        }
      ]
    },
    {
      "cell_type": "code",
      "metadata": {
        "id": "xvpKqCztuK0C",
        "colab_type": "code",
        "colab": {
          "base_uri": "https://localhost:8080/",
          "height": 84
        },
        "outputId": "64fa2d0b-f3bb-49b2-be1f-305601c91e35"
      },
      "source": [
        "Amount = float(input(\"Please enter the principal ammount : \"))\n",
        "ROT = float(input(\"Please enter the rate of interest : \"))\n",
        "Invest = float(input(\"Enter the number of years for investment : \"))\n",
        "total = Amount * (1+ROT)**Invest\n",
        "print(\"After \"+str(Invest)+\" years your pricipal amount \"+str(Amount)+\" over an interest rate of \"+str(ROT)+\" will be \"+str(total))\n"
      ],
      "execution_count": 17,
      "outputs": [
        {
          "output_type": "stream",
          "text": [
            "Please enter the principal ammount : 25000\n",
            "Please enter the rate of interest : 0.5\n",
            "Enter the number of years for investment : 2\n",
            "After 2.0 years your pricipal amount 25000.0 over an interest rate of 0.5 will be 56250.0\n"
          ],
          "name": "stdout"
        }
      ]
    },
    {
      "cell_type": "markdown",
      "metadata": {
        "id": "4OLXyMGjuK0F",
        "colab_type": "text"
      },
      "source": [
        "## 10. Euclidean distance\n",
        "### write a Python program to compute the distance between the points (x1, y1) and (x2, y2).\n",
        "#### Program Console Sample 1:\n",
        "###### Enter Co-ordinate for x1: 2\n",
        "###### Enter Co-ordinate for x2: 4\n",
        "###### Enter Co-ordinate for y1: 4\n",
        "###### Enter Co-ordinate for y2: 4\n",
        "###### Distance between points (2, 4) and (4, 4) is 2"
      ]
    },
    {
      "cell_type": "markdown",
      "metadata": {
        "id": "P1hVvfnOuK0H",
        "colab_type": "text"
      },
      "source": [
        "###### Reference:\n",
        "https://en.wikipedia.org/wiki/Euclidean_distance"
      ]
    },
    {
      "cell_type": "code",
      "metadata": {
        "id": "HX5F020GuK0I",
        "colab_type": "code",
        "colab": {
          "base_uri": "https://localhost:8080/",
          "height": 279
        },
        "outputId": "c05e6737-7fe0-4842-f993-fa414a98f026"
      },
      "source": [
        "x1 = input(\"Enter Co-ordinate of x1 : \")\n",
        "x2 = input(\"Enter Co-ordinate of x2 : \")\n",
        "y1 = input(\"Enter Co-ordinate of y1 : \")\n",
        "y2 = input(\"Enter Co-ordinate of y2 : \")\n",
        "distance = sqrt(((x2-x1)**2) +((y2-y1)**2))\n",
        "print(\"Distance between points (\"+str(x1)+\",\"+str(y1)+\")(\"+str(x2)+\",\"+str(y2)+\")\")"
      ],
      "execution_count": 21,
      "outputs": [
        {
          "output_type": "stream",
          "text": [
            "Enter Co-ordinate of x1 : 2\n",
            "Enter Co-ordinate of x2 : 4\n",
            "Enter Co-ordinate of y1 : 4\n",
            "Enter Co-ordinate of y2 : 4\n"
          ],
          "name": "stdout"
        },
        {
          "output_type": "error",
          "ename": "NameError",
          "evalue": "ignored",
          "traceback": [
            "\u001b[0;31m---------------------------------------------------------------------------\u001b[0m",
            "\u001b[0;31mNameError\u001b[0m                                 Traceback (most recent call last)",
            "\u001b[0;32m<ipython-input-21-60a91eab3d84>\u001b[0m in \u001b[0;36m<module>\u001b[0;34m()\u001b[0m\n\u001b[1;32m      3\u001b[0m \u001b[0my1\u001b[0m \u001b[0;34m=\u001b[0m \u001b[0minput\u001b[0m\u001b[0;34m(\u001b[0m\u001b[0;34m\"Enter Co-ordinate of y1 : \"\u001b[0m\u001b[0;34m)\u001b[0m\u001b[0;34m\u001b[0m\u001b[0;34m\u001b[0m\u001b[0m\n\u001b[1;32m      4\u001b[0m \u001b[0my2\u001b[0m \u001b[0;34m=\u001b[0m \u001b[0minput\u001b[0m\u001b[0;34m(\u001b[0m\u001b[0;34m\"Enter Co-ordinate of y2 : \"\u001b[0m\u001b[0;34m)\u001b[0m\u001b[0;34m\u001b[0m\u001b[0;34m\u001b[0m\u001b[0m\n\u001b[0;32m----> 5\u001b[0;31m \u001b[0mdistance\u001b[0m \u001b[0;34m=\u001b[0m \u001b[0msqrt\u001b[0m\u001b[0;34m(\u001b[0m\u001b[0;34m(\u001b[0m\u001b[0;34m(\u001b[0m\u001b[0mx2\u001b[0m\u001b[0;34m-\u001b[0m\u001b[0mx1\u001b[0m\u001b[0;34m)\u001b[0m\u001b[0;34m**\u001b[0m\u001b[0;36m2\u001b[0m\u001b[0;34m)\u001b[0m \u001b[0;34m+\u001b[0m\u001b[0;34m(\u001b[0m\u001b[0;34m(\u001b[0m\u001b[0my2\u001b[0m\u001b[0;34m-\u001b[0m\u001b[0my1\u001b[0m\u001b[0;34m)\u001b[0m\u001b[0;34m**\u001b[0m\u001b[0;36m2\u001b[0m\u001b[0;34m)\u001b[0m\u001b[0;34m)\u001b[0m\u001b[0;34m\u001b[0m\u001b[0;34m\u001b[0m\u001b[0m\n\u001b[0m\u001b[1;32m      6\u001b[0m \u001b[0mprint\u001b[0m\u001b[0;34m(\u001b[0m\u001b[0;34m\"Distance between points (\"\u001b[0m\u001b[0;34m+\u001b[0m\u001b[0mx1\u001b[0m\u001b[0;34m+\u001b[0m\u001b[0;34m\",\"\u001b[0m\u001b[0;34m+\u001b[0m\u001b[0my1\u001b[0m\u001b[0;34m+\u001b[0m\u001b[0;34m\")(\"\u001b[0m\u001b[0;34m+\u001b[0m\u001b[0mx2\u001b[0m\u001b[0;34m+\u001b[0m\u001b[0;34m\",\"\u001b[0m\u001b[0;34m+\u001b[0m\u001b[0my2\u001b[0m\u001b[0;34m+\u001b[0m\u001b[0;34m\")\"\u001b[0m\u001b[0;34m)\u001b[0m\u001b[0;34m\u001b[0m\u001b[0;34m\u001b[0m\u001b[0m\n",
            "\u001b[0;31mNameError\u001b[0m: name 'sqrt' is not defined"
          ]
        }
      ]
    },
    {
      "cell_type": "markdown",
      "metadata": {
        "id": "QYK2eMOCuK0j",
        "colab_type": "text"
      },
      "source": [
        "## 11. Feet to Centimeter Converter\n",
        "### Write a Python program to convert height in feet to centimetres.\n",
        "##### Program Console Sample 1:\n",
        "###### Enter Height in Feet: 5\n",
        "###### There are 152.4 Cm in 5 ft\n",
        "###### Reference:\n",
        "https://www.rapidtables.com/convert/length/feet-to-cm.html"
      ]
    },
    {
      "cell_type": "code",
      "metadata": {
        "id": "J4MmUPucuK0l",
        "colab_type": "code",
        "colab": {
          "base_uri": "https://localhost:8080/",
          "height": 50
        },
        "outputId": "d4f7ac7d-b844-44e8-c88b-4c13a402ffa7"
      },
      "source": [
        "Height = float(input(\"Enter the height in feet : \"))\n",
        "cm= Height * 30.48\n",
        "print(\"There are \"+str(cm)+\" Cm in \"+str(Height)+\"ft.\")"
      ],
      "execution_count": 23,
      "outputs": [
        {
          "output_type": "stream",
          "text": [
            "Enter the height in feet : 5\n",
            "There are 152.4 Cm in 5.0ft.\n"
          ],
          "name": "stdout"
        }
      ]
    },
    {
      "cell_type": "markdown",
      "metadata": {
        "id": "6A-iRVwSuK07",
        "colab_type": "text"
      },
      "source": [
        "## 12. BMI Calculator\n",
        "### Write a Python program to calculate body mass index\n",
        "##### Program Console Sample 1:\n",
        "###### Enter Height in Cm: 180\n",
        "###### Enter Weight in Kg: 75\n",
        "###### Your BMI is 23.15"
      ]
    },
    {
      "cell_type": "code",
      "metadata": {
        "id": "7_0-_zsYuK08",
        "colab_type": "code",
        "colab": {
          "base_uri": "https://localhost:8080/",
          "height": 67
        },
        "outputId": "5cf768e1-aa1a-4fdc-fc66-8857d9978d23"
      },
      "source": [
        "h_1 = float(input(\"Enter Height in Cm : \"))\n",
        "w_1 = float(input(\"enter the Weight in Kg : \"))\n",
        "h_2 = h_1/100\n",
        "BMI = (w_1)/(h_2)**2\n",
        "print(\"Your BMI is \"+str(BMI))"
      ],
      "execution_count": 27,
      "outputs": [
        {
          "output_type": "stream",
          "text": [
            "Enter Height in Cm : 180\n",
            "enter the Weight in Kg : 75\n",
            "Your BMI is 23.148148148148145\n"
          ],
          "name": "stdout"
        }
      ]
    },
    {
      "cell_type": "markdown",
      "metadata": {
        "id": "myWNClmbuK1E",
        "colab_type": "text"
      },
      "source": [
        "## 13. Sum of n Positive Integers\n",
        "### Write a python program to sum of the first n positive integers\n",
        "#### Program Console Sample 1:\n",
        "###### Enter value of n: 5\n",
        "###### Sum of n Positive integers till 5 is 15"
      ]
    },
    {
      "cell_type": "code",
      "metadata": {
        "id": "XX-uLgssuK1F",
        "colab_type": "code",
        "colab": {}
      },
      "source": [
        ""
      ],
      "execution_count": 0,
      "outputs": []
    },
    {
      "cell_type": "code",
      "metadata": {
        "id": "hYIHIo-auK1J",
        "colab_type": "code",
        "colab": {}
      },
      "source": [
        ""
      ],
      "execution_count": 0,
      "outputs": []
    },
    {
      "cell_type": "code",
      "metadata": {
        "id": "-EVh79FIuK1S",
        "colab_type": "code",
        "colab": {}
      },
      "source": [
        ""
      ],
      "execution_count": 0,
      "outputs": []
    },
    {
      "cell_type": "markdown",
      "metadata": {
        "id": "Jd-4NfQ_uK1V",
        "colab_type": "text"
      },
      "source": [
        "## 14. Digits Sum of a Number\n",
        "### Write a Python program to calculate the sum of the digits in an integer\n",
        "#### Program Console Sample 1:\n",
        "##### Enter a number: 15\n",
        "###### Sum of 1 + 5 is 6\n",
        "#### Program Console Sample 2:\n",
        "##### Enter a number: 1234\n",
        "###### Sum of 1 + 2 + 3 + 4 is 10"
      ]
    },
    {
      "cell_type": "code",
      "metadata": {
        "id": "PmIQKJx_uK1W",
        "colab_type": "code",
        "colab": {}
      },
      "source": [
        ""
      ],
      "execution_count": 0,
      "outputs": []
    },
    {
      "cell_type": "code",
      "metadata": {
        "id": "J1DlTIJ8uK1Z",
        "colab_type": "code",
        "colab": {}
      },
      "source": [
        ""
      ],
      "execution_count": 0,
      "outputs": []
    },
    {
      "cell_type": "code",
      "metadata": {
        "id": "1ecxe4dmuK1b",
        "colab_type": "code",
        "colab": {}
      },
      "source": [
        ""
      ],
      "execution_count": 0,
      "outputs": []
    },
    {
      "cell_type": "code",
      "metadata": {
        "id": "Zma-gXB_uK1h",
        "colab_type": "code",
        "colab": {}
      },
      "source": [
        ""
      ],
      "execution_count": 0,
      "outputs": []
    },
    {
      "cell_type": "code",
      "metadata": {
        "id": "-Y3zpapEuK1j",
        "colab_type": "code",
        "colab": {}
      },
      "source": [
        ""
      ],
      "execution_count": 0,
      "outputs": []
    },
    {
      "cell_type": "code",
      "metadata": {
        "id": "SVe9eKj0uK1m",
        "colab_type": "code",
        "colab": {}
      },
      "source": [
        ""
      ],
      "execution_count": 0,
      "outputs": []
    },
    {
      "cell_type": "code",
      "metadata": {
        "id": "p27l6aXiuK1p",
        "colab_type": "code",
        "colab": {}
      },
      "source": [
        ""
      ],
      "execution_count": 0,
      "outputs": []
    },
    {
      "cell_type": "code",
      "metadata": {
        "id": "62nHRb3MuK1s",
        "colab_type": "code",
        "colab": {}
      },
      "source": [
        ""
      ],
      "execution_count": 0,
      "outputs": []
    }
  ]
}