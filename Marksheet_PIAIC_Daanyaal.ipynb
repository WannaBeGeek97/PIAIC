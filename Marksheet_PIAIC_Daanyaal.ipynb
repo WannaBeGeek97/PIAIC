{
  "nbformat": 4,
  "nbformat_minor": 0,
  "metadata": {
    "colab": {
      "name": "Marksheet_PIAIC_Daanyaal",
      "version": "0.3.2",
      "provenance": [],
      "collapsed_sections": []
    },
    "kernelspec": {
      "name": "python3",
      "display_name": "Python 3"
    }
  },
  "cells": [
    {
      "cell_type": "code",
      "metadata": {
        "id": "z703h_-1cIB7",
        "colab_type": "code",
        "colab": {
          "base_uri": "https://localhost:8080/",
          "height": 101
        },
        "outputId": "5cf616ee-5e76-4ae7-add2-f4cec86badce"
      },
      "source": [
        "marks_maths=float(input(\"Enter the marks obtained in Mathematics : \"))\n",
        "if marks_maths < 0 or marks_maths > 100 :\n",
        "  print(\"Enter correct marks obtained in the subject\")\n",
        "marks_eng=float(input(\"Enter the marks obtained in English : \" ))\n",
        "if marks_eng < 0 or marks_eng > 100 :\n",
        "  print(\"Enter correct marks obtained in the subject\")\n",
        "marks_urdu=float(input(\"Enter the marks obtained in Urdu : \"))\n",
        "if marks_urdu < 0 or marks_urdu > 100 :\n",
        "  print(\"Enter correct marks obtained in the subject\")\n",
        "  print()\n",
        "marks_total =  marks_maths +  marks_eng +  marks_urdu\n",
        "print(\"Total Marks Obtained =\" +str(marks_total))\n",
        "percent = marks_total / 300 * 100\n",
        "if percent >= 80:\n",
        "  print(\"Grade obtained is A\")\n",
        "elif percent >=70:\n",
        "    print(\"Grade obtained  is B\")\n",
        "elif percent >=60:\n",
        "      print(\"Grade obtained is C\")\n",
        "elif percent >=50:\n",
        "        print(\"Grade obtained is D\")\n",
        "else :\n",
        "  print(\"You have failed\")\n",
        "\n"
      ],
      "execution_count": 8,
      "outputs": [
        {
          "output_type": "stream",
          "text": [
            "Enter the marks obtained in Mathematics : 80\n",
            "Enter the marks obtained in English : 80\n",
            "Enter the marks obtained in Urdu : 80\n",
            "Total Marks Obtained =240.0\n",
            "Grade obtained is A\n"
          ],
          "name": "stdout"
        }
      ]
    }
  ]
}